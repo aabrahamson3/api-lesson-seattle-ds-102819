{
 "cells": [
  {
   "cell_type": "markdown",
   "metadata": {},
   "source": [
    "# APIs"
   ]
  },
  {
   "cell_type": "markdown",
   "metadata": {},
   "source": [
    "**Prerequisites:** You need the `requests` and `ipyleaflet` packages for this lesson.  You should be able to install both with `conda`."
   ]
  },
  {
   "cell_type": "markdown",
   "metadata": {},
   "source": [
    "## Reading Existing Code (Google Books Query)\n",
    " - Uses the Python [`requests` library](https://2.python-requests.org/en/master/)\n",
    " - Uses the [Google Books API](https://developers.google.com/books/docs/v1/using#WorkingVolumes)\n",
    " - Searches for author \"Jake VanderPlas\" (author of my go-to Python data science book)\n",
    " - Prints out a list of book titles that match this query"
   ]
  },
  {
   "cell_type": "code",
   "execution_count": 1,
   "metadata": {},
   "outputs": [
    {
     "name": "stdout",
     "output_type": "stream",
     "text": [
      "Python Data Science Handbook\n",
      "A Whirlwind Tour of Python\n",
      "Python Data Science Handbook\n",
      "Data Science mit Python\n",
      "Essentials of Psychology\n",
      "Psychology\n"
     ]
    }
   ],
   "source": [
    "import requests\n",
    "\n",
    "response = requests.get(\"https://www.googleapis.com/books/v1/volumes?q=inauthor:Jake+VanderPlas\")\n",
    "\n",
    "if response.status_code == 200:\n",
    "    response_dict = response.json()\n",
    "\n",
    "    books = response_dict[\"items\"]\n",
    "\n",
    "    for book_dict in books:\n",
    "        info_dict = book_dict[\"volumeInfo\"]\n",
    "        print(info_dict[\"title\"])\n",
    "else:\n",
    "    print(\"Error: unable to retrieve books.  Server responded with status code\", response.status_code)"
   ]
  },
  {
   "cell_type": "markdown",
   "metadata": {},
   "source": [
    "## Exercise\n",
    "1. Query the [NASA ISS API](http://api.open-notify.org/) and print out the current latitude and longitude of the ISS\n",
    "2. Using iPyLeaflet, make a [Map](https://ipyleaflet.readthedocs.io/en/latest/api_reference/map.html) with a [Marker](https://ipyleaflet.readthedocs.io/en/latest/api_reference/marker.html) at the current location of the ISS"
   ]
  },
  {
   "cell_type": "code",
   "execution_count": 1,
   "metadata": {},
   "outputs": [],
   "source": [
    "from ipyleaflet import Map, basemaps, basemap_to_tiles, Marker, Polyline\n",
    "import time\n",
    "import requests"
   ]
  },
  {
   "cell_type": "code",
   "execution_count": 3,
   "metadata": {},
   "outputs": [
    {
     "ename": "KeyboardInterrupt",
     "evalue": "",
     "output_type": "error",
     "traceback": [
      "\u001b[0;31m---------------------------------------------------------------------------\u001b[0m",
      "\u001b[0;31mKeyboardInterrupt\u001b[0m                         Traceback (most recent call last)",
      "\u001b[0;32m<ipython-input-3-5b1ac80992f9>\u001b[0m in \u001b[0;36m<module>\u001b[0;34m()\u001b[0m\n\u001b[0;32m----> 1\u001b[0;31m \u001b[0mtime\u001b[0m\u001b[0;34m.\u001b[0m\u001b[0msleep\u001b[0m\u001b[0;34m(\u001b[0m\u001b[0;36m10\u001b[0m\u001b[0;34m)\u001b[0m\u001b[0;34m\u001b[0m\u001b[0m\n\u001b[0m",
      "\u001b[0;31mKeyboardInterrupt\u001b[0m: "
     ]
    }
   ],
   "source": [
    "time.sleep(10)"
   ]
  },
  {
   "cell_type": "code",
   "execution_count": 2,
   "metadata": {},
   "outputs": [],
   "source": [
    "counter = 0\n",
    "pos_data = []\n",
    "while counter < 2:\n",
    "    \n",
    "    response = requests.get(\"http://api.open-notify.org/iss-now.json\")\n",
    "    response_dict = response.json()\n",
    "    position = response_dict['iss_position']\n",
    "    timestamp = response_dict['timestamp']\n",
    "    iss_location = (position['latitude'], position['longitude'])\n",
    "    pos_data.append((timestamp, position['latitude'], position['longitude']))\n",
    "    time.sleep(3)\n",
    "    counter += 1"
   ]
  },
  {
   "cell_type": "code",
   "execution_count": 4,
   "metadata": {},
   "outputs": [
    {
     "data": {
      "text/plain": [
       "[(1573258697, '24.9874', '109.0806'), (1573258700, '24.8457', '109.2146')]"
      ]
     },
     "execution_count": 4,
     "metadata": {},
     "output_type": "execute_result"
    }
   ],
   "source": [
    "pos_data"
   ]
  },
  {
   "cell_type": "code",
   "execution_count": 5,
   "metadata": {},
   "outputs": [],
   "source": [
    "# response = requests.get(\"http://api.open-notify.org/iss-now.json\")\n",
    "\n",
    "# if response.status_code == 200:\n",
    "#     response_dict = response.json()\n",
    "#     position = response_dict['iss_position']\n",
    "#     iss_location = (position['latitude'], position['longitude'])\n",
    "\n",
    "\n",
    "\n",
    "m = Map(\n",
    "    layers=(basemap_to_tiles(basemaps.Esri.DeLorme), ),\n",
    "    center=iss_location,\n",
    "    zoom=3\n",
    ")\n",
    "\n",
    "for mark in pos_data:\n",
    "    marker = Marker(location=(mark[1], mark[2]), draggable=False)\n",
    "    m.add_layer(marker)\n",
    "    \n",
    "\n",
    "# line = Polyline(\n",
    "#     locations = [[\n",
    "#     [[pos_data[0][1],pos_data[0][2]],\n",
    "#      [pos_data[1][1], pos_data[1][2]],\n",
    "#      ],]],\n",
    "#     color = \"green\" ,\n",
    "#     fill_color= \"green\")\n",
    "# m.add_layer(line)\n",
    "# m\n",
    "\n"
   ]
  },
  {
   "cell_type": "code",
   "execution_count": 11,
   "metadata": {},
   "outputs": [
    {
     "data": {
      "text/plain": [
       "ipyleaflet.leaflet.Map"
      ]
     },
     "execution_count": 11,
     "metadata": {},
     "output_type": "execute_result"
    }
   ],
   "source": []
  },
  {
   "cell_type": "code",
   "execution_count": 9,
   "metadata": {},
   "outputs": [
    {
     "data": {
      "application/vnd.jupyter.widget-view+json": {
       "model_id": "75918bf945c247e89d7b6c6097693818",
       "version_major": 2,
       "version_minor": 0
      },
      "text/plain": [
       "Map(basemap={'url': 'https://{s}.tile.openstreetmap.org/{z}/{x}/{y}.png', 'max_zoom': 19, 'attribution': 'Map …"
      ]
     },
     "metadata": {},
     "output_type": "display_data"
    }
   ],
   "source": [
    "m"
   ]
  },
  {
   "cell_type": "code",
   "execution_count": 3,
   "metadata": {},
   "outputs": [
    {
     "data": {
      "application/vnd.jupyter.widget-view+json": {
       "model_id": "093522c136464fd6bc4f8d29ddd94fd8",
       "version_major": 2,
       "version_minor": 0
      },
      "text/plain": [
       "Map(basemap={'url': 'https://{s}.tile.openstreetmap.org/{z}/{x}/{y}.png', 'max_zoom': 19, 'attribution': 'Map …"
      ]
     },
     "metadata": {},
     "output_type": "display_data"
    }
   ],
   "source": [
    "m = Map(\n",
    "    layers=(basemap_to_tiles(basemaps.NASAGIBS.ModisTerraTrueColorCR, \"2017-04-08\"), ),\n",
    "    center=(52.204793, 360.121558),\n",
    "    zoom=4\n",
    ")\n",
    "\n",
    "m"
   ]
  },
  {
   "cell_type": "code",
   "execution_count": 17,
   "metadata": {},
   "outputs": [
    {
     "data": {
      "text/plain": [
       "ipyleaflet.leaflet.Map"
      ]
     },
     "execution_count": 17,
     "metadata": {},
     "output_type": "execute_result"
    }
   ],
   "source": [
    "type(m)"
   ]
  },
  {
   "cell_type": "code",
   "execution_count": null,
   "metadata": {},
   "outputs": [],
   "source": []
  },
  {
   "cell_type": "code",
   "execution_count": null,
   "metadata": {},
   "outputs": [],
   "source": []
  }
 ],
 "metadata": {
  "kernelspec": {
   "display_name": "Python (learn-env)",
   "language": "python",
   "name": "learn-env"
  },
  "language_info": {
   "codemirror_mode": {
    "name": "ipython",
    "version": 3
   },
   "file_extension": ".py",
   "mimetype": "text/x-python",
   "name": "python",
   "nbconvert_exporter": "python",
   "pygments_lexer": "ipython3",
   "version": "3.6.6"
  }
 },
 "nbformat": 4,
 "nbformat_minor": 4
}
