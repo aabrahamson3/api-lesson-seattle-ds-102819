{
 "cells": [
  {
   "cell_type": "markdown",
   "metadata": {},
   "source": [
    "# APIs"
   ]
  },
  {
   "cell_type": "markdown",
   "metadata": {},
   "source": [
    "**Prerequisites:** You need the `requests` and `ipyleaflet` packages for this lesson.  You should be able to install both with `conda`."
   ]
  },
  {
   "cell_type": "markdown",
   "metadata": {},
   "source": [
    "## Reading Existing Code (Google Books Query)\n",
    " - Uses the Python [`requests` library](https://2.python-requests.org/en/master/)\n",
    " - Uses the [Google Books API](https://developers.google.com/books/docs/v1/using#WorkingVolumes)\n",
    " - Searches for author \"Jake VanderPlas\" (author of my go-to Python data science book)\n",
    " - Prints out a list of book titles that match this query"
   ]
  },
  {
   "cell_type": "code",
   "execution_count": null,
   "metadata": {},
   "outputs": [],
   "source": [
    "import requests\n",
    "\n",
    "response = requests.get(\"https://www.googleapis.com/books/v1/volumes?q=inauthor:Jake+VanderPlas\")\n",
    "\n",
    "if response.status_code == 200:\n",
    "    response_dict = response.json()\n",
    "\n",
    "    books = response_dict[\"items\"]\n",
    "\n",
    "    for book_dict in books:\n",
    "        info_dict = book_dict[\"volumeInfo\"]\n",
    "        print(info_dict[\"title\"])\n",
    "else:\n",
    "    print(\"Error: unable to retrieve books.  Server responded with status code\", response.status_code)"
   ]
  },
  {
   "cell_type": "markdown",
   "metadata": {},
   "source": [
    "## Exercise\n",
    "1. Query the [NASA ISS API](http://api.open-notify.org/) and print out the current latitude and longitude of the ISS\n",
    "2. Using iPyLeaflet, make a [Map](https://ipyleaflet.readthedocs.io/en/latest/api_reference/map.html) with a [Marker](https://ipyleaflet.readthedocs.io/en/latest/api_reference/marker.html) at the current location of the ISS"
   ]
  },
  {
   "cell_type": "code",
   "execution_count": null,
   "metadata": {},
   "outputs": [],
   "source": []
  }
 ],
 "metadata": {
  "kernelspec": {
   "display_name": "Python 3",
   "language": "python",
   "name": "python3"
  },
  "language_info": {
   "codemirror_mode": {
    "name": "ipython",
    "version": 3
   },
   "file_extension": ".py",
   "mimetype": "text/x-python",
   "name": "python",
   "nbconvert_exporter": "python",
   "pygments_lexer": "ipython3",
   "version": "3.7.3"
  }
 },
 "nbformat": 4,
 "nbformat_minor": 4
}
